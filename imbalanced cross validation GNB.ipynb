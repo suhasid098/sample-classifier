{
 "cells": [
  {
   "cell_type": "code",
   "execution_count": 129,
   "id": "f562fc47",
   "metadata": {},
   "outputs": [
    {
     "name": "stdout",
     "output_type": "stream",
     "text": [
      "(67, 3)\n",
      "First 5 lines:\n",
      "   Gunning Fog Index  Flesch Reading Ease  Flesch-Kincaid Grade\n",
      "0               9.76                59.85                  6.01\n",
      "1               8.63                66.35                  5.11\n",
      "2              10.24                54.20                  6.51\n",
      "3               9.47                56.05                  6.33\n",
      "4               9.39                55.94                  6.27\n",
      "info: \n",
      "<class 'pandas.core.frame.DataFrame'>\n",
      "RangeIndex: 67 entries, 0 to 66\n",
      "Data columns (total 3 columns):\n",
      " #   Column                Non-Null Count  Dtype  \n",
      "---  ------                --------------  -----  \n",
      " 0   Gunning Fog Index     67 non-null     float64\n",
      " 1   Flesch Reading Ease   67 non-null     float64\n",
      " 2   Flesch-Kincaid Grade  67 non-null     float64\n",
      "dtypes: float64(3)\n",
      "memory usage: 1.7 KB\n",
      "None\n"
     ]
    },
    {
     "data": {
      "text/plain": [
       "'Since all variables are of float and int type, so this data is easy to handle for modeling'"
      ]
     },
     "execution_count": 129,
     "metadata": {},
     "output_type": "execute_result"
    }
   ],
   "source": [
    "import numpy as np\n",
    "import pandas as pd\n",
    "import matplotlib.pyplot as plt\n",
    "from sklearn.metrics import confusion_matrix,auc,roc_auc_score\n",
    "from sklearn.metrics import recall_score, precision_score, accuracy_score, f1_score\n",
    "\n",
    "# Data Handling: Load CSV\n",
    "df = pd.read_csv(\"Training_Scores.csv\")\n",
    "x = df.drop(columns=([\"classification\"]), axis = 1)\n",
    "y = df[\"classification\"]\n",
    "# get to know list of features, data shape, stat. description.\n",
    "print(x.shape)\n",
    "\n",
    "print(\"First 5 lines:\")\n",
    "print(x.head(5))\n",
    "\n",
    "\n",
    "print(\"info: \")\n",
    "print(x.info())\n",
    "\n",
    "\"\"\"Since all variables are of float and int type, so this data is easy to handle for modeling\"\"\""
   ]
  },
  {
   "cell_type": "code",
   "execution_count": 130,
   "id": "7873636d",
   "metadata": {},
   "outputs": [
    {
     "name": "stdout",
     "output_type": "stream",
     "text": [
      "Class as pie chart:\n"
     ]
    },
    {
     "data": {
      "text/plain": [
       "Text(0, 0.5, '')"
      ]
     },
     "execution_count": 130,
     "metadata": {},
     "output_type": "execute_result"
    },
    {
     "data": {
      "image/png": "[encoded data removed]",
      "text/plain": [
       "<Figure size 432x288 with 1 Axes>"
      ]
     },
     "metadata": {},
     "output_type": "display_data"
    }
   ],
   "source": [
    "# Check Class variables that has 0 value for beginner transactions and 1 for advanced\n",
    "print(\"Class as pie chart:\")\n",
    "fig, ax = plt.subplots(1, 1)\n",
    "ax.pie(y.value_counts(),autopct='%1.1f%%', labels=['advanced','beginner'], colors=['yellowgreen','r'])\n",
    "plt.axis('equal')\n",
    "plt.ylabel('')"
   ]
  },
  {
   "cell_type": "code",
   "execution_count": 131,
   "id": "4b44e8f6",
   "metadata": {},
   "outputs": [],
   "source": [
    "def split_data(df, drop_list):\n",
    "    df = df.drop(drop_list,axis=1)\n",
    "    print(df.columns)\n",
    "    #test train split time\n",
    "    from sklearn.model_selection import train_test_split\n",
    "    y = df['classification'].values #target\n",
    "    X = df.drop(columns=([\"classification\"]), axis = 1).values #features\n",
    "    X_train, X_test, y_train, y_test = train_test_split(X, y, test_size=0.2,\n",
    "                                                    random_state=42, stratify=y)\n",
    "\n",
    "    print(\"train-set size: \", len(y_train),\n",
    "      \"\\ntest-set size: \", len(y_test))\n",
    "    print(\"fraud cases in test-set: \", sum(y_test))\n",
    "    return X_train, X_test, y_train, y_test"
   ]
  },
  {
   "cell_type": "code",
   "execution_count": 132,
   "id": "779dd005",
   "metadata": {},
   "outputs": [],
   "source": [
    "def get_predictions(clf, X_train, y_train, X_test):\n",
    "    # create classifier\n",
    "    clf = clf\n",
    "    # fit it to training data\n",
    "    clf.fit(X_train,y_train)\n",
    "    # predict using test data\n",
    "    y_pred = clf.predict(X_test)\n",
    "    # Compute predicted probabilities: y_pred_prob\n",
    "    y_pred_prob = clf.predict_proba(X_test)\n",
    "    #for fun: train-set predictions\n",
    "    train_pred = clf.predict(X_train)\n",
    "    print('train-set confusion matrix:\\n', confusion_matrix(y_train,train_pred)) \n",
    "    return y_pred, y_pred_prob"
   ]
  },
  {
   "cell_type": "code",
   "execution_count": 133,
   "id": "7c88d043",
   "metadata": {},
   "outputs": [],
   "source": [
    "def print_scores(y_test,y_pred,y_pred_prob):\n",
    "    print('test-set confusion matrix:\\n', confusion_matrix(y_test,y_pred)) \n",
    "    print(\"recall score: \", recall_score(y_test,y_pred))\n",
    "    print(\"precision score: \", precision_score(y_test,y_pred))\n",
    "    print(\"f1 score: \", f1_score(y_test,y_pred))\n",
    "    print(\"accuracy score: \", accuracy_score(y_test,y_pred))\n",
    "    print(\"ROC AUC: {}\".format(roc_auc_score(y_test, y_pred_prob[:,1])))"
   ]
  },
  {
   "cell_type": "code",
   "execution_count": 134,
   "id": "b86be1a5",
   "metadata": {},
   "outputs": [],
   "source": [
    "from sklearn.naive_bayes import GaussianNB\n",
    "from sklearn.linear_model import LogisticRegression"
   ]
  },
  {
   "cell_type": "code",
   "execution_count": 135,
   "id": "3fbce20b",
   "metadata": {},
   "outputs": [
    {
     "name": "stdout",
     "output_type": "stream",
     "text": [
      "Index(['Gunning Fog Index', 'Flesch Reading Ease', 'Flesch-Kincaid Grade',\n",
      "       'classification'],\n",
      "      dtype='object')\n",
      "train-set size:  53 \n",
      "test-set size:  14\n",
      "fraud cases in test-set:  11\n",
      "train-set confusion matrix:\n",
      " [[ 9  4]\n",
      " [ 9 31]]\n",
      "test-set confusion matrix:\n",
      " [[1 2]\n",
      " [5 6]]\n",
      "recall score:  0.5454545454545454\n",
      "precision score:  0.75\n",
      "f1 score:  0.631578947368421\n",
      "accuracy score:  0.5\n",
      "ROC AUC: 0.27272727272727276\n"
     ]
    }
   ],
   "source": [
    "# Case-NB-1 : do not drop anything\n",
    "drop_list = []\n",
    "X_train, X_test, y_train, y_test = split_data(df, drop_list)\n",
    "y_pred, y_pred_prob = get_predictions(GaussianNB(), X_train, y_train, X_test)\n",
    "print_scores(y_test,y_pred,y_pred_prob)"
   ]
  },
  {
   "cell_type": "code",
   "execution_count": 136,
   "id": "a255947c",
   "metadata": {},
   "outputs": [
    {
     "name": "stdout",
     "output_type": "stream",
     "text": [
      "Index(['Gunning Fog Index', 'Flesch Reading Ease', 'Flesch-Kincaid Grade'], dtype='object')\n"
     ]
    },
    {
     "ename": "KeyError",
     "evalue": "'classification'",
     "output_type": "error",
     "traceback": [
      "\u001b[1;31m---------------------------------------------------------------------------\u001b[0m",
      "\u001b[1;31mKeyError\u001b[0m                                  Traceback (most recent call last)",
      "File \u001b[1;32mC:\\Python39\\lib\\site-packages\\pandas\\core\\indexes\\base.py:3621\u001b[0m, in \u001b[0;36mIndex.get_loc\u001b[1;34m(self, key, method, tolerance)\u001b[0m\n\u001b[0;32m   3620\u001b[0m \u001b[38;5;28;01mtry\u001b[39;00m:\n\u001b[1;32m-> 3621\u001b[0m     \u001b[38;5;28;01mreturn\u001b[39;00m \u001b[38;5;28;43mself\u001b[39;49m\u001b[38;5;241;43m.\u001b[39;49m\u001b[43m_engine\u001b[49m\u001b[38;5;241;43m.\u001b[39;49m\u001b[43mget_loc\u001b[49m\u001b[43m(\u001b[49m\u001b[43mcasted_key\u001b[49m\u001b[43m)\u001b[49m\n\u001b[0;32m   3622\u001b[0m \u001b[38;5;28;01mexcept\u001b[39;00m \u001b[38;5;167;01mKeyError\u001b[39;00m \u001b[38;5;28;01mas\u001b[39;00m err:\n",
      "File \u001b[1;32mC:\\Python39\\lib\\site-packages\\pandas\\_libs\\index.pyx:136\u001b[0m, in \u001b[0;36mpandas._libs.index.IndexEngine.get_loc\u001b[1;34m()\u001b[0m\n",
      "File \u001b[1;32mC:\\Python39\\lib\\site-packages\\pandas\\_libs\\index.pyx:163\u001b[0m, in \u001b[0;36mpandas._libs.index.IndexEngine.get_loc\u001b[1;34m()\u001b[0m\n",
      "File \u001b[1;32mpandas\\_libs\\hashtable_class_helper.pxi:5198\u001b[0m, in \u001b[0;36mpandas._libs.hashtable.PyObjectHashTable.get_item\u001b[1;34m()\u001b[0m\n",
      "File \u001b[1;32mpandas\\_libs\\hashtable_class_helper.pxi:5206\u001b[0m, in \u001b[0;36mpandas._libs.hashtable.PyObjectHashTable.get_item\u001b[1;34m()\u001b[0m\n",
      "\u001b[1;31mKeyError\u001b[0m: 'classification'",
      "\nThe above exception was the direct cause of the following exception:\n",
      "\u001b[1;31mKeyError\u001b[0m                                  Traceback (most recent call last)",
      "Input \u001b[1;32mIn [136]\u001b[0m, in \u001b[0;36m<cell line: 3>\u001b[1;34m()\u001b[0m\n\u001b[0;32m      1\u001b[0m \u001b[38;5;66;03m# Case-NB-4 : drop classification\u001b[39;00m\n\u001b[0;32m      2\u001b[0m drop_list \u001b[38;5;241m=\u001b[39m [\u001b[38;5;124m'\u001b[39m\u001b[38;5;124mclassification\u001b[39m\u001b[38;5;124m'\u001b[39m]\n\u001b[1;32m----> 3\u001b[0m X_train, X_test, y_train, y_test \u001b[38;5;241m=\u001b[39m \u001b[43msplit_data\u001b[49m\u001b[43m(\u001b[49m\u001b[43mdf\u001b[49m\u001b[43m,\u001b[49m\u001b[43m \u001b[49m\u001b[43mdrop_list\u001b[49m\u001b[43m)\u001b[49m\n\u001b[0;32m      4\u001b[0m y_pred, y_pred_prob \u001b[38;5;241m=\u001b[39m get_predictions(GaussianNB(), X_train, y_train, X_test)\n\u001b[0;32m      5\u001b[0m print_scores(y_test,y_pred,y_pred_prob)\n",
      "Input \u001b[1;32mIn [131]\u001b[0m, in \u001b[0;36msplit_data\u001b[1;34m(df, drop_list)\u001b[0m\n\u001b[0;32m      4\u001b[0m \u001b[38;5;66;03m#test train split time\u001b[39;00m\n\u001b[0;32m      5\u001b[0m \u001b[38;5;28;01mfrom\u001b[39;00m \u001b[38;5;21;01msklearn\u001b[39;00m\u001b[38;5;21;01m.\u001b[39;00m\u001b[38;5;21;01mmodel_selection\u001b[39;00m \u001b[38;5;28;01mimport\u001b[39;00m train_test_split\n\u001b[1;32m----> 6\u001b[0m y \u001b[38;5;241m=\u001b[39m \u001b[43mdf\u001b[49m\u001b[43m[\u001b[49m\u001b[38;5;124;43m'\u001b[39;49m\u001b[38;5;124;43mclassification\u001b[39;49m\u001b[38;5;124;43m'\u001b[39;49m\u001b[43m]\u001b[49m\u001b[38;5;241m.\u001b[39mvalues \u001b[38;5;66;03m#target\u001b[39;00m\n\u001b[0;32m      7\u001b[0m X \u001b[38;5;241m=\u001b[39m df\u001b[38;5;241m.\u001b[39mdrop(columns\u001b[38;5;241m=\u001b[39m([\u001b[38;5;124m\"\u001b[39m\u001b[38;5;124mclassification\u001b[39m\u001b[38;5;124m\"\u001b[39m]), axis \u001b[38;5;241m=\u001b[39m \u001b[38;5;241m1\u001b[39m)\u001b[38;5;241m.\u001b[39mvalues \u001b[38;5;66;03m#features\u001b[39;00m\n\u001b[0;32m      8\u001b[0m X_train, X_test, y_train, y_test \u001b[38;5;241m=\u001b[39m train_test_split(X, y, test_size\u001b[38;5;241m=\u001b[39m\u001b[38;5;241m0.2\u001b[39m,\n\u001b[0;32m      9\u001b[0m                                                 random_state\u001b[38;5;241m=\u001b[39m\u001b[38;5;241m42\u001b[39m, stratify\u001b[38;5;241m=\u001b[39my)\n",
      "File \u001b[1;32mC:\\Python39\\lib\\site-packages\\pandas\\core\\frame.py:3505\u001b[0m, in \u001b[0;36mDataFrame.__getitem__\u001b[1;34m(self, key)\u001b[0m\n\u001b[0;32m   3503\u001b[0m \u001b[38;5;28;01mif\u001b[39;00m \u001b[38;5;28mself\u001b[39m\u001b[38;5;241m.\u001b[39mcolumns\u001b[38;5;241m.\u001b[39mnlevels \u001b[38;5;241m>\u001b[39m \u001b[38;5;241m1\u001b[39m:\n\u001b[0;32m   3504\u001b[0m     \u001b[38;5;28;01mreturn\u001b[39;00m \u001b[38;5;28mself\u001b[39m\u001b[38;5;241m.\u001b[39m_getitem_multilevel(key)\n\u001b[1;32m-> 3505\u001b[0m indexer \u001b[38;5;241m=\u001b[39m \u001b[38;5;28;43mself\u001b[39;49m\u001b[38;5;241;43m.\u001b[39;49m\u001b[43mcolumns\u001b[49m\u001b[38;5;241;43m.\u001b[39;49m\u001b[43mget_loc\u001b[49m\u001b[43m(\u001b[49m\u001b[43mkey\u001b[49m\u001b[43m)\u001b[49m\n\u001b[0;32m   3506\u001b[0m \u001b[38;5;28;01mif\u001b[39;00m is_integer(indexer):\n\u001b[0;32m   3507\u001b[0m     indexer \u001b[38;5;241m=\u001b[39m [indexer]\n",
      "File \u001b[1;32mC:\\Python39\\lib\\site-packages\\pandas\\core\\indexes\\base.py:3623\u001b[0m, in \u001b[0;36mIndex.get_loc\u001b[1;34m(self, key, method, tolerance)\u001b[0m\n\u001b[0;32m   3621\u001b[0m     \u001b[38;5;28;01mreturn\u001b[39;00m \u001b[38;5;28mself\u001b[39m\u001b[38;5;241m.\u001b[39m_engine\u001b[38;5;241m.\u001b[39mget_loc(casted_key)\n\u001b[0;32m   3622\u001b[0m \u001b[38;5;28;01mexcept\u001b[39;00m \u001b[38;5;167;01mKeyError\u001b[39;00m \u001b[38;5;28;01mas\u001b[39;00m err:\n\u001b[1;32m-> 3623\u001b[0m     \u001b[38;5;28;01mraise\u001b[39;00m \u001b[38;5;167;01mKeyError\u001b[39;00m(key) \u001b[38;5;28;01mfrom\u001b[39;00m \u001b[38;5;21;01merr\u001b[39;00m\n\u001b[0;32m   3624\u001b[0m \u001b[38;5;28;01mexcept\u001b[39;00m \u001b[38;5;167;01mTypeError\u001b[39;00m:\n\u001b[0;32m   3625\u001b[0m     \u001b[38;5;66;03m# If we have a listlike key, _check_indexing_error will raise\u001b[39;00m\n\u001b[0;32m   3626\u001b[0m     \u001b[38;5;66;03m#  InvalidIndexError. Otherwise we fall through and re-raise\u001b[39;00m\n\u001b[0;32m   3627\u001b[0m     \u001b[38;5;66;03m#  the TypeError.\u001b[39;00m\n\u001b[0;32m   3628\u001b[0m     \u001b[38;5;28mself\u001b[39m\u001b[38;5;241m.\u001b[39m_check_indexing_error(key)\n",
      "\u001b[1;31mKeyError\u001b[0m: 'classification'"
     ]
    }
   ],
   "source": [
    "# Case-NB-4 : drop classification\n",
    "drop_list = ['classification']\n",
    "X_train, X_test, y_train, y_test = split_data(df, drop_list)\n",
    "y_pred, y_pred_prob = get_predictions(GaussianNB(), X_train, y_train, X_test)\n",
    "print_scores(y_test,y_pred,y_pred_prob)"
   ]
  },
  {
   "cell_type": "code",
   "execution_count": null,
   "id": "d69f42b3",
   "metadata": {},
   "outputs": [],
   "source": []
  }
 ],
 "metadata": {
  "kernelspec": {
   "display_name": "Python 3 (ipykernel)",
   "language": "python",
   "name": "python3"
  },
  "language_info": {
   "codemirror_mode": {
    "name": "ipython",
    "version": 3
   },
   "file_extension": ".py",
   "mimetype": "text/x-python",
   "name": "python",
   "nbconvert_exporter": "python",
   "pygments_lexer": "ipython3",
   "version": "3.9.6"
  }
 },
 "nbformat": 4,
 "nbformat_minor": 5
}
