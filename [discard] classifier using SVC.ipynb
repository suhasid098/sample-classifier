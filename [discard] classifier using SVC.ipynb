{
 "cells": [
  {
   "cell_type": "code",
   "execution_count": 1,
   "id": "4c056063",
   "metadata": {},
   "outputs": [
    {
     "name": "stdout",
     "output_type": "stream",
     "text": [
      "Should result in beginner\n",
      "['advance']\n",
      "['advance']\n",
      "['advance']\n",
      "['advance']\n",
      "['advance']\n",
      "['advance']\n",
      "Should result in advance\n",
      "['advance']\n",
      "['advance']\n",
      "['advance']\n",
      "['advance']\n",
      "['advance']\n",
      "['advance']\n",
      "['advance']\n",
      "['advance']\n",
      "['advance']\n",
      "['advance']\n",
      "['advance']\n",
      "['advance']\n",
      "['advance']\n",
      "['advance']\n",
      "['advance']\n",
      "['advance']\n",
      "['advance']\n",
      "['advance']\n"
     ]
    },
    {
     "name": "stderr",
     "output_type": "stream",
     "text": [
      "C:\\Users\\suhas\\AppData\\Roaming\\Python\\Python39\\site-packages\\sklearn\\utils\\validation.py:1111: DataConversionWarning: A column-vector y was passed when a 1d array was expected. Please change the shape of y to (n_samples, ), for example using ravel().\n",
      "  y = column_or_1d(y, warn=True)\n"
     ]
    }
   ],
   "source": [
    "import numpy as np\n",
    "from sklearn.svm import SVC\n",
    "X =  np.array(#beginner\n",
    "               [[9.83,57.48,6.11],[9.76,59.85,6.01],[8.63,66.35,5.11],[10.24,54.2,6.51],\n",
    "               [9.47,56.05,6.33],[9.39,55.94,6.27],[10.74,52.49,6.6],[8.6,66.71,4.73],\n",
    "               [10.48,51.89,6.83],\n",
    "               #advance\n",
    "               [10.72,50.93,6.93],[10.81,52.13,6.85],[10.43,54.04,6.74],[11,50.32,7.07],\n",
    "               [12,43.96,8.16],[8.59,65.23,4.84],[7.45,74.63,3.39],[9.86,57.15,6.05],\n",
    "               [10.34,53.96,6.52],[10.35,55.33,6.52],[11,50.56,6.91],[10.49,51.95,6.83],\n",
    "               [11.02,50.71,7.01],[10.22,55.28,6.43],[10.88,51.62,6.93],[9.73,57.63,6.05],\n",
    "               [10.46,52.76,6.75],[10.76,53.58,6.62],[9.78,57.69,6.15],[10.35,52.58,6.69],\n",
    "               [10.19,53.3,6.63],[11.59,48.3,7.36],[10.69,52.24,6.8],[11.19,49.14,7.41],\n",
    "               [9.3,60.86,5.67],[10.33,52.05,6.93],[10.6,53.58,6.59],[11.18,50.9,6.92],\n",
    "               [12.41,42.52,8.2],[12.31,43.29,8.03]])\n",
    "               \n",
    "\n",
    "Y = np.array([['beginner'],['beginner'],['beginner'],['beginner'],['beginner'],['beginner'],\n",
    "              ['beginner'],['beginner'],['beginner'],\n",
    "              ['advance'],['advance'],['advance'],['advance'],['advance'],['advance'],\n",
    "              ['advance'],['advance'],['advance'],['advance'],['advance'],['advance'],\n",
    "              ['advance'],['advance'],['advance'],['advance'],['advance'],['advance'],\n",
    "              ['advance'],['advance'],['advance'],['advance'],['advance'],['advance'],['advance'],\n",
    "              ['advance'],['advance'],['advance'],['advance'],['advance']])\n",
    "\n",
    "clf=SVC()\n",
    "#Training\n",
    "clf.fit(X,Y)\n",
    "#Testing beginner\n",
    "print(\"Should result in beginner\")\n",
    "print(clf.predict([[9.38,59.77,5.84]]))\n",
    "print(clf.predict([[10.06,60.83,5.71]]))\n",
    "print(clf.predict([[10.54,56.11,6.39]]))\n",
    "print(clf.predict([[8.97,62.01,5.41]]))\n",
    "print(clf.predict([[10.49,54.01,6.5]]))\n",
    "print(clf.predict([[9.45,59.51,5.78]]))\n",
    "#Testing advance\n",
    "print(\"Should result in advance\")\n",
    "print(clf.predict([[9.28,63.02,5.61]]))\n",
    "print(clf.predict([[10.22,56.42,6.41]]))\n",
    "print(clf.predict([[8.08,69.94,4.6]]))\n",
    "print(clf.predict([[10.22,55.28,6.43]]))\n",
    "print(clf.predict([[11.16,48.99,7.32]]))\n",
    "print(clf.predict([[10.37,53.5,6.59]]))\n",
    "print(clf.predict([[10.67,54.35,6.52]]))\n",
    "print(clf.predict([[7.94,72.51,3.95]]))\n",
    "print(clf.predict([[9.46,57.71,6.07]]))\n",
    "print(clf.predict([[10.94,51.96,6.71]]))\n",
    "print(clf.predict([[11.43,46.91,7.49]]))\n",
    "print(clf.predict([[11.59,46.73,7.54]]))\n",
    "print(clf.predict([[10.43,54.29,6.44]]))\n",
    "print(clf.predict([[11.25,48.51,7.32]]))\n",
    "print(clf.predict([[10.63,53.21,6.42]]))\n",
    "print(clf.predict([[11.91,48.8,7.1]]))\n",
    "print(clf.predict([[11.22,49.47,7.12]]))\n",
    "print(clf.predict([[11.1,49.56,7.05]]))"
   ]
  },
  {
   "cell_type": "code",
   "execution_count": null,
   "id": "345b6077",
   "metadata": {},
   "outputs": [],
   "source": []
  }
 ],
 "metadata": {
  "kernelspec": {
   "display_name": "Python 3 (ipykernel)",
   "language": "python",
   "name": "python3"
  },
  "language_info": {
   "codemirror_mode": {
    "name": "ipython",
    "version": 3
   },
   "file_extension": ".py",
   "mimetype": "text/x-python",
   "name": "python",
   "nbconvert_exporter": "python",
   "pygments_lexer": "ipython3",
   "version": "3.9.6"
  }
 },
 "nbformat": 4,
 "nbformat_minor": 5
}
