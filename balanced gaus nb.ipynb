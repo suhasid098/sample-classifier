{
 "cells": [
  {
   "cell_type": "code",
   "execution_count": 36,
   "id": "4ac780cd",
   "metadata": {},
   "outputs": [
    {
     "name": "stdout",
     "output_type": "stream",
     "text": [
      "(64, 3)\n",
      "First 5 lines:\n",
      "   Gunning Fog Index  Flesch Reading Ease  Flesch-Kincaid Grade\n",
      "0               9.76                59.85                  6.01\n",
      "1               8.63                66.35                  5.11\n",
      "2              10.24                54.20                  6.51\n",
      "3               9.47                56.05                  6.33\n",
      "4               9.39                55.94                  6.27\n",
      "info: \n",
      "<class 'pandas.core.frame.DataFrame'>\n",
      "RangeIndex: 64 entries, 0 to 63\n",
      "Data columns (total 3 columns):\n",
      " #   Column                Non-Null Count  Dtype  \n",
      "---  ------                --------------  -----  \n",
      " 0   Gunning Fog Index     64 non-null     float64\n",
      " 1   Flesch Reading Ease   64 non-null     float64\n",
      " 2   Flesch-Kincaid Grade  64 non-null     float64\n",
      "dtypes: float64(3)\n",
      "memory usage: 1.6 KB\n",
      "None\n"
     ]
    },
    {
     "data": {
      "text/plain": [
       "'Since all variables are of float and int type, so this data is easy to handle for modeling'"
      ]
     },
     "execution_count": 36,
     "metadata": {},
     "output_type": "execute_result"
    }
   ],
   "source": [
    "import numpy as np\n",
    "import pandas as pd\n",
    "import matplotlib.pyplot as plt\n",
    "from sklearn.metrics import confusion_matrix,auc,roc_auc_score\n",
    "from sklearn.metrics import recall_score, precision_score, accuracy_score, f1_score\n",
    "\n",
    "# Data Handling: Load CSV\n",
    "df = pd.read_csv(\"Training_Scores.csv\")\n",
    "x = df.drop(columns=([\"Total sentences\", \"Total words\", \"Total Syllable\", \"classification\"]), axis = 1)\n",
    "y = df[\"classification\"]\n",
    "# get to know list of features, data shape, stat. description.\n",
    "print(x.shape)\n",
    "\n",
    "print(\"First 5 lines:\")\n",
    "print(x.head(5))\n",
    "\n",
    "\n",
    "print(\"info: \")\n",
    "print(x.info())\n",
    "\n",
    "\"\"\"Since all variables are of float and int type, so this data is easy to handle for modeling\"\"\""
   ]
  },
  {
   "cell_type": "code",
   "execution_count": 37,
   "id": "718786be",
   "metadata": {},
   "outputs": [
    {
     "name": "stdout",
     "output_type": "stream",
     "text": [
      "Class as pie chart:\n"
     ]
    },
    {
     "data": {
      "text/plain": [
       "Text(0, 0.5, '')"
      ]
     },
     "execution_count": 37,
     "metadata": {},
     "output_type": "execute_result"
    },
    {
     "data": {
      "image/png": "[encoded data removed]",
      "text/plain": [
       "<Figure size 432x288 with 1 Axes>"
      ]
     },
     "metadata": {},
     "output_type": "display_data"
    }
   ],
   "source": [
    "# Check Class variables that has 0 value for beginner transactions and 1 for advanced\n",
    "print(\"Class as pie chart:\")\n",
    "fig, ax = plt.subplots(1, 1)\n",
    "ax.pie(y.value_counts(),autopct='%1.1f%%', labels=['advanced','beginner'], colors=['yellowgreen','r'])\n",
    "plt.axis('equal')\n",
    "plt.ylabel('')"
   ]
  },
  {
   "cell_type": "code",
   "execution_count": 38,
   "id": "4cbc760c",
   "metadata": {},
   "outputs": [],
   "source": [
    "def split_data(df, drop_list):\n",
    "    df = df.drop(drop_list,axis=1)\n",
    "    print(df.columns)\n",
    "    #test train split time\n",
    "    from sklearn.model_selection import train_test_split\n",
    "    y = df['classification'].values #target\n",
    "    X = df.drop(columns=([\"classification\"]), axis = 1).values #features\n",
    "    X_train, X_test, y_train, y_test = train_test_split(X, y, test_size=0.091,\n",
    "                                                    random_state=42, stratify=y)\n",
    "\n",
    "    print(\"train-set size: \", len(y_train),\n",
    "      \"\\ntest-set size: \", len(y_test))\n",
    "    print(\"beginner cases in test-set: \", sum(y_test))\n",
    "    return X_train, X_test, y_train, y_test"
   ]
  },
  {
   "cell_type": "code",
   "execution_count": 39,
   "id": "744e7db8",
   "metadata": {},
   "outputs": [],
   "source": [
    "def get_predictions(clf, X_train, y_train, X_test):\n",
    "    # create classifier\n",
    "    clf = clf\n",
    "    # fit it to training data\n",
    "    clf.fit(X_train,y_train)\n",
    "    # predict using test data\n",
    "    y_pred = clf.predict(X_test)\n",
    "    # Compute predicted probabilities: y_pred_prob\n",
    "    y_pred_prob = clf.predict_proba(X_test)\n",
    "    #for fun: train-set predictions\n",
    "    train_pred = clf.predict(X_train)\n",
    "    print('train-set confusion matrix:\\n', confusion_matrix(y_train,train_pred)) \n",
    "    return y_pred, y_pred_prob"
   ]
  },
  {
   "cell_type": "code",
   "execution_count": 40,
   "id": "8dab0da4",
   "metadata": {},
   "outputs": [],
   "source": [
    "def print_scores(y_test,y_pred,y_pred_prob):\n",
    "    print('test-set confusion matrix:\\n', confusion_matrix(y_test,y_pred)) \n",
    "    print(\"recall score: \", recall_score(y_test,y_pred))\n",
    "    print(\"precision score: \", precision_score(y_test,y_pred))\n",
    "    print(\"f1 score: \", f1_score(y_test,y_pred))\n",
    "    print(\"accuracy score: \", accuracy_score(y_test,y_pred))\n",
    "    print(\"ROC AUC: {}\".format(roc_auc_score(y_test, y_pred_prob[:,1])))"
   ]
  },
  {
   "cell_type": "code",
   "execution_count": 41,
   "id": "5e7f7ca1",
   "metadata": {},
   "outputs": [
    {
     "name": "stdout",
     "output_type": "stream",
     "text": [
      "# apis in undersampled data:  100\n",
      "% advanced:  0.5\n",
      "% beginner:  0.5\n"
     ]
    },
    {
     "name": "stderr",
     "output_type": "stream",
     "text": [
      "C:\\Users\\suhas\\AppData\\Local\\Temp\\ipykernel_20124\\3710291827.py:16: UserWarning: Boolean Series key will be reindexed to match DataFrame index.\n",
      "  print(\"% advanced: \",len(undersample_df[y == 0])/len(undersample_df))\n"
     ]
    }
   ],
   "source": [
    "# get indices for beginner and advanced genuine classes \n",
    "beginner_ind = np.array(df[y == 1].index)\n",
    "advanced_ind = df[y == 0].index\n",
    "n_beginner = len(df[y == 1])\n",
    "# random selection from advanced class\n",
    "random_advanced_ind = np.random.choice(advanced_ind, n_beginner)\n",
    "random_advanced_ind = np.array(random_advanced_ind)\n",
    "# merge two class indices: random advanced + original beginner\n",
    "under_sample_ind = np.concatenate([beginner_ind,random_advanced_ind])\n",
    "# Under sample dataset\n",
    "undersample_df = df.iloc[under_sample_ind,:]\n",
    "y_undersample  = undersample_df['classification'].values #target\n",
    "X_undersample = undersample_df.drop(['classification'],axis=1).values #features\n",
    "\n",
    "print(\"# apis in undersampled data: \", len(undersample_df))\n",
    "print(\"% advanced: \",len(undersample_df[y == 0])/len(undersample_df))\n",
    "print(\"% beginner: \", sum(y_undersample)/len(undersample_df))"
   ]
  },
  {
   "cell_type": "code",
   "execution_count": 42,
   "id": "d7e8807e",
   "metadata": {},
   "outputs": [
    {
     "name": "stdout",
     "output_type": "stream",
     "text": [
      "Index(['Gunning Fog Index', 'Flesch Reading Ease', 'Flesch-Kincaid Grade',\n",
      "       'classification'],\n",
      "      dtype='object')\n",
      "train-set size:  90 \n",
      "test-set size:  10\n",
      "beginner cases in test-set:  5\n",
      "train-set confusion matrix:\n",
      " [[29 16]\n",
      " [10 35]]\n",
      "test-set confusion matrix:\n",
      " [[2 3]\n",
      " [4 1]]\n",
      "recall score:  0.2\n",
      "precision score:  0.25\n",
      "f1 score:  0.22222222222222224\n",
      "accuracy score:  0.3\n",
      "ROC AUC: 0.36\n"
     ]
    }
   ],
   "source": [
    "# GNB balanced\n",
    "drop_list = [\"Total sentences\", \"Total words\", \"Total Syllable\"]\n",
    "X_und_train, X_und_test, y_und_train, y_und_test = split_data(undersample_df, drop_list)\n",
    "y_und_pred, y_und_pred_prob = get_predictions(GaussianNB(), X_und_train, y_und_train, X_und_test)\n",
    "print_scores(y_und_test,y_und_pred,y_und_pred_prob)"
   ]
  },
  {
   "cell_type": "code",
   "execution_count": 43,
   "id": "67075fc5",
   "metadata": {},
   "outputs": [],
   "source": [
    "from sklearn.naive_bayes import GaussianNB\n",
    "from sklearn.preprocessing import StandardScaler\n",
    "scaler = StandardScaler()\n",
    "X_und_train_scaled = scaler.fit_transform(X_und_train)\n",
    "X_und_test_scaled = scaler.transform(X_und_test)"
   ]
  },
  {
   "cell_type": "code",
   "execution_count": 44,
   "id": "675bd4f1",
   "metadata": {},
   "outputs": [
    {
     "name": "stderr",
     "output_type": "stream",
     "text": [
      "C:\\Users\\suhas\\AppData\\Roaming\\Python\\Python39\\site-packages\\sklearn\\base.py:443: UserWarning: X has feature names, but StandardScaler was fitted without feature names\n",
      "  warnings.warn(\n"
     ]
    }
   ],
   "source": [
    "GausNB = GaussianNB().fit(X_und_train, y_und_train)\n",
    "sf = pd.read_csv(\"Testing_Data.csv\")\n",
    "sf = sf.drop(columns=([\"Total sentences\", \"Total words\", \"Total Syllable\"]), axis = 1)\n",
    "X1 = sf\n",
    "X1_scaled = scaler.transform(X1)"
   ]
  },
  {
   "cell_type": "code",
   "execution_count": 45,
   "id": "b6aaf2ba",
   "metadata": {},
   "outputs": [],
   "source": [
    "prediction_of_API = GausNB.predict(X1_scaled)"
   ]
  },
  {
   "cell_type": "code",
   "execution_count": 46,
   "id": "24d69c72",
   "metadata": {},
   "outputs": [],
   "source": [
    "save_to = pd.DataFrame(prediction_of_API)\n",
    "save_to.to_csv('gaus_NB.csv')"
   ]
  },
  {
   "cell_type": "code",
   "execution_count": null,
   "id": "8be9fdee",
   "metadata": {},
   "outputs": [],
   "source": []
  }
 ],
 "metadata": {
  "kernelspec": {
   "display_name": "Python 3 (ipykernel)",
   "language": "python",
   "name": "python3"
  },
  "language_info": {
   "codemirror_mode": {
    "name": "ipython",
    "version": 3
   },
   "file_extension": ".py",
   "mimetype": "text/x-python",
   "name": "python",
   "nbconvert_exporter": "python",
   "pygments_lexer": "ipython3",
   "version": "3.9.6"
  }
 },
 "nbformat": 4,
 "nbformat_minor": 5
}
